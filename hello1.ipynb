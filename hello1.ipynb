{
 "cells": [
  {
   "cell_type": "code",
   "execution_count": null,
   "id": "4b6bf6fd",
   "metadata": {},
   "outputs": [
    {
     "name": "stdout",
     "output_type": "stream",
     "text": [
      "❌ Gemini API Test Failed:\n",
      "404 models/gemini-2.5pro is not found for API version v1beta, or is not supported for generateContent. Call ListModels to see the list of available models and their supported methods.\n"
     ]
    }
   ],
   "source": [
    "#lokseva ai\n",
    "import os\n",
    "import google.generativeai as genai\n",
    "from dotenv import load_dotenv\n",
    "\n",
    "# Load environment variables from .env file\n",
    "load_dotenv()\n",
    "\n",
    "# Get API key from environment\n",
    "GEMINI_API_KEY = os.getenv(\"GEMINI_API_KEY\")\n",
    "\n",
    "# Configure Gemini\n",
    "genai.configure(api_key=GEMINI_API_KEY)\n",
    "\n",
    "# Create a model instance\n",
    "model = genai.GenerativeModel('gemini-2.5-pro')\n",
    "\n",
    "# Run a test prompt\n",
    "try:\n",
    "    response = model.generate_content(\"Hi Gemini! Can you tell me a joke?\")\n",
    "    print(\"✅ Gemini API Test Successful:\")\n",
    "    print(response.text)\n",
    "except Exception as e:\n",
    "    print(\"❌ Gemini API Test Failed:\")\n",
    "    print(e)"
   ]
  },
  {
   "cell_type": "code",
   "execution_count": 2,
   "id": "17be64b1",
   "metadata": {},
   "outputs": [
    {
     "name": "stdout",
     "output_type": "stream",
     "text": [
      "models/embedding-gecko-001 - ['embedText', 'countTextTokens']\n",
      "models/gemini-1.5-pro-latest - ['generateContent', 'countTokens']\n",
      "models/gemini-1.5-pro-002 - ['generateContent', 'countTokens', 'createCachedContent']\n",
      "models/gemini-1.5-pro - ['generateContent', 'countTokens']\n",
      "models/gemini-1.5-flash-latest - ['generateContent', 'countTokens']\n",
      "models/gemini-1.5-flash - ['generateContent', 'countTokens']\n",
      "models/gemini-1.5-flash-002 - ['generateContent', 'countTokens', 'createCachedContent']\n",
      "models/gemini-1.5-flash-8b - ['createCachedContent', 'generateContent', 'countTokens']\n",
      "models/gemini-1.5-flash-8b-001 - ['createCachedContent', 'generateContent', 'countTokens']\n",
      "models/gemini-1.5-flash-8b-latest - ['createCachedContent', 'generateContent', 'countTokens']\n",
      "models/gemini-2.5-pro-preview-03-25 - ['generateContent', 'countTokens', 'createCachedContent', 'batchGenerateContent']\n",
      "models/gemini-2.5-flash-preview-05-20 - ['generateContent', 'countTokens', 'createCachedContent', 'batchGenerateContent']\n",
      "models/gemini-2.5-flash - ['generateContent', 'countTokens', 'createCachedContent', 'batchGenerateContent']\n",
      "models/gemini-2.5-flash-lite-preview-06-17 - ['generateContent', 'countTokens', 'createCachedContent', 'batchGenerateContent']\n",
      "models/gemini-2.5-pro-preview-05-06 - ['generateContent', 'countTokens', 'createCachedContent', 'batchGenerateContent']\n",
      "models/gemini-2.5-pro-preview-06-05 - ['generateContent', 'countTokens', 'createCachedContent', 'batchGenerateContent']\n",
      "models/gemini-2.5-pro - ['generateContent', 'countTokens', 'createCachedContent', 'batchGenerateContent']\n",
      "models/gemini-2.0-flash-exp - ['generateContent', 'countTokens', 'bidiGenerateContent']\n",
      "models/gemini-2.0-flash - ['generateContent', 'countTokens', 'createCachedContent', 'batchGenerateContent']\n",
      "models/gemini-2.0-flash-001 - ['generateContent', 'countTokens', 'createCachedContent', 'batchGenerateContent']\n",
      "models/gemini-2.0-flash-exp-image-generation - ['generateContent', 'countTokens', 'bidiGenerateContent']\n",
      "models/gemini-2.0-flash-lite-001 - ['generateContent', 'countTokens', 'createCachedContent', 'batchGenerateContent']\n",
      "models/gemini-2.0-flash-lite - ['generateContent', 'countTokens', 'createCachedContent', 'batchGenerateContent']\n",
      "models/gemini-2.0-flash-preview-image-generation - ['generateContent', 'countTokens']\n",
      "models/gemini-2.0-flash-lite-preview-02-05 - ['generateContent', 'countTokens', 'createCachedContent', 'batchGenerateContent']\n",
      "models/gemini-2.0-flash-lite-preview - ['generateContent', 'countTokens', 'createCachedContent', 'batchGenerateContent']\n",
      "models/gemini-2.0-pro-exp - ['generateContent', 'countTokens', 'createCachedContent', 'batchGenerateContent']\n",
      "models/gemini-2.0-pro-exp-02-05 - ['generateContent', 'countTokens', 'createCachedContent', 'batchGenerateContent']\n",
      "models/gemini-exp-1206 - ['generateContent', 'countTokens', 'createCachedContent', 'batchGenerateContent']\n",
      "models/gemini-2.0-flash-thinking-exp-01-21 - ['generateContent', 'countTokens', 'createCachedContent', 'batchGenerateContent']\n",
      "models/gemini-2.0-flash-thinking-exp - ['generateContent', 'countTokens', 'createCachedContent', 'batchGenerateContent']\n",
      "models/gemini-2.0-flash-thinking-exp-1219 - ['generateContent', 'countTokens', 'createCachedContent', 'batchGenerateContent']\n",
      "models/gemini-2.5-flash-preview-tts - ['countTokens', 'generateContent']\n",
      "models/gemini-2.5-pro-preview-tts - ['countTokens', 'generateContent']\n",
      "models/learnlm-2.0-flash-experimental - ['generateContent', 'countTokens']\n",
      "models/gemma-3-1b-it - ['generateContent', 'countTokens']\n",
      "models/gemma-3-4b-it - ['generateContent', 'countTokens']\n",
      "models/gemma-3-12b-it - ['generateContent', 'countTokens']\n",
      "models/gemma-3-27b-it - ['generateContent', 'countTokens']\n",
      "models/gemma-3n-e4b-it - ['generateContent', 'countTokens']\n",
      "models/gemma-3n-e2b-it - ['generateContent', 'countTokens']\n",
      "models/gemini-2.5-flash-lite - ['generateContent', 'countTokens', 'createCachedContent', 'batchGenerateContent']\n",
      "models/embedding-001 - ['embedContent']\n",
      "models/text-embedding-004 - ['embedContent']\n",
      "models/gemini-embedding-exp-03-07 - ['embedContent', 'countTextTokens', 'countTokens']\n",
      "models/gemini-embedding-exp - ['embedContent', 'countTextTokens', 'countTokens']\n",
      "models/gemini-embedding-001 - ['embedContent', 'countTextTokens', 'countTokens']\n",
      "models/aqa - ['generateAnswer']\n",
      "models/imagen-3.0-generate-002 - ['predict']\n",
      "models/imagen-4.0-generate-preview-06-06 - ['predict']\n",
      "models/imagen-4.0-ultra-generate-preview-06-06 - ['predict']\n",
      "models/veo-2.0-generate-001 - ['predictLongRunning']\n",
      "models/veo-3.0-generate-preview - ['predictLongRunning']\n",
      "models/veo-3.0-fast-generate-preview - ['predictLongRunning']\n",
      "models/gemini-2.5-flash-preview-native-audio-dialog - ['countTokens', 'bidiGenerateContent']\n",
      "models/gemini-2.5-flash-exp-native-audio-thinking-dialog - ['countTokens', 'bidiGenerateContent']\n",
      "models/gemini-2.0-flash-live-001 - ['bidiGenerateContent', 'countTokens']\n",
      "models/gemini-live-2.5-flash-preview - ['bidiGenerateContent', 'countTokens']\n",
      "models/gemini-2.5-flash-live-preview - ['bidiGenerateContent', 'countTokens']\n"
     ]
    }
   ],
   "source": [
    "import google.generativeai as genai\n",
    "import os\n",
    "from dotenv import load_dotenv\n",
    "\n",
    "# Load your .env file\n",
    "load_dotenv()\n",
    "genai.configure(api_key=os.getenv(\"GOOGLE_API_KEY\"))\n",
    "\n",
    "# List available models\n",
    "models = genai.list_models()\n",
    "\n",
    "for model in models:\n",
    "    print(model.name, \"-\", model.supported_generation_methods)\n"
   ]
  },
  {
   "cell_type": "code",
   "execution_count": null,
   "id": "420ddd53",
   "metadata": {},
   "outputs": [],
   "source": []
  }
 ],
 "metadata": {
  "kernelspec": {
   "display_name": "Python 3",
   "language": "python",
   "name": "python3"
  },
  "language_info": {
   "codemirror_mode": {
    "name": "ipython",
    "version": 3
   },
   "file_extension": ".py",
   "mimetype": "text/x-python",
   "name": "python",
   "nbconvert_exporter": "python",
   "pygments_lexer": "ipython3",
   "version": "3.13.5"
  }
 },
 "nbformat": 4,
 "nbformat_minor": 5
}
